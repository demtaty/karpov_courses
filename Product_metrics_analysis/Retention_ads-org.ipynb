{
 "cells": [
  {
   "cell_type": "markdown",
   "id": "5990a096-7d6e-4502-b6ea-cc794ff21b4a",
   "metadata": {},
   "source": [
    "При визуальном сравнении тепловых карт Retention по двум разным источникам мы видим схожий паттерн поведения пользователей в рамках каждой когортной группы: большое количество юзеров в первый день и их значительное снижение в последующие дни.\n",
    "Также на линейных графиках retention прослеживается недельный паттерн поведения - график напоминает синусоиду, где пиковые значения приходятся преимущественно на воскресенья, а падения - на четверг. То есть большинство новых пользователей приходит в конце недели. \n",
    "\n",
    "Для определения есть ли статистически значимые различия между retention двух групп произведены расчеты ниже"
   ]
  },
  {
   "cell_type": "code",
   "execution_count": 81,
   "id": "5dcda0e6",
   "metadata": {},
   "outputs": [],
   "source": [
    "import pandas as pd\n",
    "import pandahouse as ph\n",
    "import numpy as np\n",
    "import seaborn as sns\n",
    "import scipy.stats"
   ]
  },
  {
   "cell_type": "code",
   "execution_count": 1,
   "id": "910444dd",
   "metadata": {},
   "outputs": [],
   "source": [
    "connection = {'host': 'https://clickhouse.lab.karpov.courses',\n",
    "'database':'simulator_20231020',\n",
    "'user':'student',\n",
    "'password':'_'\n",
    "}"
   ]
  },
  {
   "cell_type": "code",
   "execution_count": 83,
   "id": "6df79b02",
   "metadata": {},
   "outputs": [],
   "source": [
    "query_ads = '''\n",
    "SELECT start_date, date, retention_rate, 1 - retention_rate as churn_rate\n",
    "from\n",
    "(SELECT toDate(cnt_users_by_days.start_date) as start_date, toDate(cnt_users_by_days.date) as date, round(cnt_users_by_days.users / total_users.total_per_start_day, 3) as retention_rate\n",
    "FROM\n",
    "  (SELECT toString(start_date) as start_date, toString(date) as date, count(distinct user_id) as users  \n",
    "  FROM \n",
    "    (SELECT user_id , min(toDate(time)) as start_date\n",
    "    from simulator_20231020.feed_actions \n",
    "    WHERE source = 'ads'\n",
    "    GROUP By user_id\n",
    "    HAVING start_date >= today() - 30) t1   \n",
    "  JOIN \n",
    "    (SELECT DISTINCT user_id, toDate(time) as date\n",
    "    FROM simulator_20231020.feed_actions \n",
    "    WHERE source = 'ads'\n",
    "    ) t2     \n",
    "  USING user_id \n",
    "  GROUP BY start_date, date\n",
    "  ORDER BY start_date DESC) as cnt_users_by_days\n",
    "LEFT JOIN\n",
    "  (SELECT toString(start_date) as start_date, count(distinct user_id) as total_per_start_day  \n",
    "  FROM \n",
    "    (SELECT user_id , min(toDate(time)) as start_date\n",
    "    from simulator_20231020.feed_actions \n",
    "    WHERE source = 'ads'\n",
    "    GROUP By user_id\n",
    "    HAVING start_date >= today() - 30) t1   \n",
    "  JOIN        \n",
    "    (SELECT DISTINCT user_id, toDate(time) as date\n",
    "    FROM simulator_20231020.feed_actions \n",
    "    WHERE source = 'ads'\n",
    "    ) t2\n",
    "  USING user_id      \n",
    "  GROUP BY start_date\n",
    "  ORDER BY start_date DESC) as total_users\n",
    "ON cnt_users_by_days.start_date = total_users.start_date)\n",
    "'''\n",
    "\n",
    "df_ads = ph.read_clickhouse(query_ads, connection=connection)"
   ]
  },
  {
   "cell_type": "code",
   "execution_count": 84,
   "id": "ee14d493-ea91-4d3b-943b-47bc52a88392",
   "metadata": {},
   "outputs": [
    {
     "data": {
      "text/html": [
       "<div>\n",
       "<style scoped>\n",
       "    .dataframe tbody tr th:only-of-type {\n",
       "        vertical-align: middle;\n",
       "    }\n",
       "\n",
       "    .dataframe tbody tr th {\n",
       "        vertical-align: top;\n",
       "    }\n",
       "\n",
       "    .dataframe thead th {\n",
       "        text-align: right;\n",
       "    }\n",
       "</style>\n",
       "<table border=\"1\" class=\"dataframe\">\n",
       "  <thead>\n",
       "    <tr style=\"text-align: right;\">\n",
       "      <th></th>\n",
       "      <th>start_date</th>\n",
       "      <th>date</th>\n",
       "      <th>retention_rate</th>\n",
       "      <th>churn_rate</th>\n",
       "    </tr>\n",
       "  </thead>\n",
       "  <tbody>\n",
       "    <tr>\n",
       "      <th>0</th>\n",
       "      <td>2023-11-01</td>\n",
       "      <td>2023-11-01</td>\n",
       "      <td>1.000</td>\n",
       "      <td>0.000</td>\n",
       "    </tr>\n",
       "    <tr>\n",
       "      <th>1</th>\n",
       "      <td>2023-10-31</td>\n",
       "      <td>2023-10-31</td>\n",
       "      <td>1.000</td>\n",
       "      <td>0.000</td>\n",
       "    </tr>\n",
       "    <tr>\n",
       "      <th>2</th>\n",
       "      <td>2023-10-31</td>\n",
       "      <td>2023-11-01</td>\n",
       "      <td>0.347</td>\n",
       "      <td>0.653</td>\n",
       "    </tr>\n",
       "    <tr>\n",
       "      <th>3</th>\n",
       "      <td>2023-10-30</td>\n",
       "      <td>2023-10-31</td>\n",
       "      <td>0.403</td>\n",
       "      <td>0.597</td>\n",
       "    </tr>\n",
       "    <tr>\n",
       "      <th>4</th>\n",
       "      <td>2023-10-30</td>\n",
       "      <td>2023-10-30</td>\n",
       "      <td>1.000</td>\n",
       "      <td>0.000</td>\n",
       "    </tr>\n",
       "  </tbody>\n",
       "</table>\n",
       "</div>"
      ],
      "text/plain": [
       "  start_date       date  retention_rate  churn_rate\n",
       "0 2023-11-01 2023-11-01           1.000       0.000\n",
       "1 2023-10-31 2023-10-31           1.000       0.000\n",
       "2 2023-10-31 2023-11-01           0.347       0.653\n",
       "3 2023-10-30 2023-10-31           0.403       0.597\n",
       "4 2023-10-30 2023-10-30           1.000       0.000"
      ]
     },
     "execution_count": 84,
     "metadata": {},
     "output_type": "execute_result"
    }
   ],
   "source": [
    "df_ads.head()"
   ]
  },
  {
   "cell_type": "markdown",
   "id": "b57c1ef6",
   "metadata": {},
   "source": [
    "Посмотрим на распределение в двух выборках"
   ]
  },
  {
   "cell_type": "code",
   "execution_count": 85,
   "id": "b5e264dc-4fc7-461d-8896-1979db83a8f3",
   "metadata": {},
   "outputs": [
    {
     "data": {
      "text/plain": [
       "<Axes: xlabel='retention_rate', ylabel='Count'>"
      ]
     },
     "execution_count": 85,
     "metadata": {},
     "output_type": "execute_result"
    },
    {
     "data": {
      "image/png": "[encoded data removed]",
      "text/plain": [
       "<Figure size 432x288 with 1 Axes>"
      ]
     },
     "metadata": {
      "needs_background": "light"
     },
     "output_type": "display_data"
    }
   ],
   "source": [
    "sns.histplot(df_ads.retention_rate, bins=50)"
   ]
  },
  {
   "cell_type": "code",
   "execution_count": 86,
   "id": "03ad7c9a-fa30-4e0b-a2c2-fc97dde9e1a1",
   "metadata": {},
   "outputs": [],
   "source": [
    "query_org = '''\n",
    "SELECT start_date, date, retention_rate, 1 - retention_rate as churn_rate\n",
    "from\n",
    "(SELECT toDate(cnt_users_by_days.start_date) as start_date, toDate(cnt_users_by_days.date) as date, round(cnt_users_by_days.users / total_users.total_per_start_day, 3) as retention_rate\n",
    "FROM\n",
    "  (SELECT toString(start_date) as start_date, toString(date) as date, count(distinct user_id) as users  \n",
    "  FROM \n",
    "    (SELECT user_id , min(toDate(time)) as start_date\n",
    "    from simulator_20231020.feed_actions \n",
    "    WHERE source = 'organic'\n",
    "    GROUP By user_id\n",
    "    HAVING start_date >= today() - 30) t1   \n",
    "  JOIN \n",
    "    (SELECT DISTINCT user_id, toDate(time) as date\n",
    "    FROM simulator_20231020.feed_actions \n",
    "    WHERE source = 'organic'\n",
    "    ) t2     \n",
    "  USING user_id \n",
    "  GROUP BY start_date, date\n",
    "  ORDER BY start_date DESC) as cnt_users_by_days\n",
    "LEFT JOIN\n",
    "  (SELECT toString(start_date) as start_date, count(distinct user_id) as total_per_start_day  \n",
    "  FROM \n",
    "    (SELECT user_id , min(toDate(time)) as start_date\n",
    "    from simulator_20231020.feed_actions \n",
    "    WHERE source = 'organic'\n",
    "    GROUP By user_id\n",
    "    HAVING start_date >= today() - 30) t1   \n",
    "  JOIN        \n",
    "    (SELECT DISTINCT user_id, toDate(time) as date\n",
    "    FROM simulator_20231020.feed_actions \n",
    "    WHERE source = 'organic'\n",
    "    ) t2\n",
    "  USING user_id      \n",
    "  GROUP BY start_date\n",
    "  ORDER BY start_date DESC) as total_users\n",
    "ON cnt_users_by_days.start_date = total_users.start_date)\n",
    "'''\n",
    "\n",
    "df_organic = ph.read_clickhouse(query_org, connection=connection)"
   ]
  },
  {
   "cell_type": "code",
   "execution_count": 87,
   "id": "5e79a6fb-bc9e-4e6a-9bbf-6ccf251cce12",
   "metadata": {},
   "outputs": [
    {
     "data": {
      "text/html": [
       "<div>\n",
       "<style scoped>\n",
       "    .dataframe tbody tr th:only-of-type {\n",
       "        vertical-align: middle;\n",
       "    }\n",
       "\n",
       "    .dataframe tbody tr th {\n",
       "        vertical-align: top;\n",
       "    }\n",
       "\n",
       "    .dataframe thead th {\n",
       "        text-align: right;\n",
       "    }\n",
       "</style>\n",
       "<table border=\"1\" class=\"dataframe\">\n",
       "  <thead>\n",
       "    <tr style=\"text-align: right;\">\n",
       "      <th></th>\n",
       "      <th>start_date</th>\n",
       "      <th>date</th>\n",
       "      <th>retention_rate</th>\n",
       "      <th>churn_rate</th>\n",
       "    </tr>\n",
       "  </thead>\n",
       "  <tbody>\n",
       "    <tr>\n",
       "      <th>0</th>\n",
       "      <td>2023-11-01</td>\n",
       "      <td>2023-11-01</td>\n",
       "      <td>1.000</td>\n",
       "      <td>0.000</td>\n",
       "    </tr>\n",
       "    <tr>\n",
       "      <th>1</th>\n",
       "      <td>2023-10-31</td>\n",
       "      <td>2023-10-31</td>\n",
       "      <td>1.000</td>\n",
       "      <td>0.000</td>\n",
       "    </tr>\n",
       "    <tr>\n",
       "      <th>2</th>\n",
       "      <td>2023-10-31</td>\n",
       "      <td>2023-11-01</td>\n",
       "      <td>0.394</td>\n",
       "      <td>0.606</td>\n",
       "    </tr>\n",
       "    <tr>\n",
       "      <th>3</th>\n",
       "      <td>2023-10-30</td>\n",
       "      <td>2023-10-31</td>\n",
       "      <td>0.474</td>\n",
       "      <td>0.526</td>\n",
       "    </tr>\n",
       "    <tr>\n",
       "      <th>4</th>\n",
       "      <td>2023-10-30</td>\n",
       "      <td>2023-10-30</td>\n",
       "      <td>1.000</td>\n",
       "      <td>0.000</td>\n",
       "    </tr>\n",
       "  </tbody>\n",
       "</table>\n",
       "</div>"
      ],
      "text/plain": [
       "  start_date       date  retention_rate  churn_rate\n",
       "0 2023-11-01 2023-11-01           1.000       0.000\n",
       "1 2023-10-31 2023-10-31           1.000       0.000\n",
       "2 2023-10-31 2023-11-01           0.394       0.606\n",
       "3 2023-10-30 2023-10-31           0.474       0.526\n",
       "4 2023-10-30 2023-10-30           1.000       0.000"
      ]
     },
     "execution_count": 87,
     "metadata": {},
     "output_type": "execute_result"
    }
   ],
   "source": [
    "df_organic.head()"
   ]
  },
  {
   "cell_type": "code",
   "execution_count": 88,
   "id": "e9d09890-59ae-4dc5-ba7a-a85a2a55af15",
   "metadata": {},
   "outputs": [
    {
     "data": {
      "text/plain": [
       "<Axes: xlabel='retention_rate', ylabel='Count'>"
      ]
     },
     "execution_count": 88,
     "metadata": {},
     "output_type": "execute_result"
    },
    {
     "data": {
      "image/png": "[encoded data removed]",
      "text/plain": [
       "<Figure size 432x288 with 1 Axes>"
      ]
     },
     "metadata": {
      "needs_background": "light"
     },
     "output_type": "display_data"
    }
   ],
   "source": [
    "sns.histplot(df_organic.retention_rate, bins=50)"
   ]
  },
  {
   "cell_type": "markdown",
   "id": "8dce40b0",
   "metadata": {},
   "source": [
    "Так как выборки имеют не нормальное распределение для сравнения будем применять U-критерий Манна-Уитни.\n",
    "Определим, есть ли статистически значимые различия между показателями Retention_rate в двух выборках. \n",
    "\n",
    "Нулевая гипотеза H0: вероятность, что случайный (x_organic > y_ads) = вероятности, что случайный (x_ads > y_organic)"
   ]
  },
  {
   "cell_type": "code",
   "execution_count": 89,
   "id": "ece97bb8-b870-4615-ab6d-934f63382941",
   "metadata": {},
   "outputs": [
    {
     "data": {
      "text/plain": [
       "MannwhitneyuResult(statistic=83752.0, pvalue=3.2773389152339823e-18)"
      ]
     },
     "execution_count": 89,
     "metadata": {},
     "output_type": "execute_result"
    }
   ],
   "source": [
    "scipy.stats.mannwhitneyu(df_ads['retention_rate'], df_organic['retention_rate'])"
   ]
  },
  {
   "cell_type": "markdown",
   "id": "be01a86c",
   "metadata": {},
   "source": [
    "p-value < 0.05. Таким образом, можем сделать вывод о том, что данные выборки имеют статистически значимые различия"
   ]
  },
  {
   "cell_type": "markdown",
   "id": "2fa09e1e",
   "metadata": {},
   "source": [
    "Также посмотрим есть ли разница между показателями Churn_rate "
   ]
  },
  {
   "cell_type": "code",
   "execution_count": 90,
   "id": "886a12e5",
   "metadata": {},
   "outputs": [
    {
     "data": {
      "text/plain": [
       "<Axes: xlabel='date'>"
      ]
     },
     "execution_count": 90,
     "metadata": {},
     "output_type": "execute_result"
    },
    {
     "data": {
      "image/png": "[encoded data removed]",
      "text/plain": [
       "<Figure size 432x288 with 1 Axes>"
      ]
     },
     "metadata": {
      "needs_background": "light"
     },
     "output_type": "display_data"
    }
   ],
   "source": [
    "df_organic.groupby('date').churn_rate.max().plot(kind='line')"
   ]
  },
  {
   "cell_type": "code",
   "execution_count": 91,
   "id": "df46b04d",
   "metadata": {},
   "outputs": [
    {
     "data": {
      "text/plain": [
       "<Axes: xlabel='date'>"
      ]
     },
     "execution_count": 91,
     "metadata": {},
     "output_type": "execute_result"
    },
    {
     "data": {
      "image/png": "[encoded data removed]",
      "text/plain": [
       "<Figure size 432x288 with 1 Axes>"
      ]
     },
     "metadata": {
      "needs_background": "light"
     },
     "output_type": "display_data"
    }
   ],
   "source": [
    "df_ads.groupby('date').churn_rate.max().plot(kind='line')"
   ]
  },
  {
   "cell_type": "code",
   "execution_count": 92,
   "id": "b11cf6aa",
   "metadata": {
    "scrolled": true
   },
   "outputs": [
    {
     "data": {
      "text/plain": [
       "MannwhitneyuResult(statistic=162264.0, pvalue=3.2773389152339823e-18)"
      ]
     },
     "execution_count": 92,
     "metadata": {},
     "output_type": "execute_result"
    }
   ],
   "source": [
    "scipy.stats.mannwhitneyu(df_ads['churn_rate'], df_organic['churn_rate'])"
   ]
  },
  {
   "cell_type": "markdown",
   "id": "80f6f31b",
   "metadata": {},
   "source": [
    "p-value < 0.05, т.е. выборки имеют статистически значимые различия, отклоняем H0."
   ]
  },
  {
   "cell_type": "markdown",
   "id": "f87f6ef4",
   "metadata": {},
   "source": [
    "По графикам показателя churn_rate мы видим, что больше половины пользователей \"отваливается\" уже на второй день: 54% в группе organic против 58% в группе ads. То есть пользователи первой группы чуть более лояльны к нашей ленте новостей. Но несмотря на то, что разница между показателями второго дня составляет 4% (а в последующие дни еще меньше), с помощью критерия Манна-Уитни мы убедились, что данные различия являются статистически значимыми и характер использования приложения у данных групп пользователей не одинаковый. \n",
    "\n",
    "Однако если еще посмотреть на обе метрики (retention и churn) с практической точки зрения, показатели и второго дня, и всех последующих являются очень высокими, то есть пользователи очень быстро теряют интерес к нашей ленте по каким-то причинам. Для выявления этих причин требуется провести дополнительных анализ."
   ]
  }
 ],
 "metadata": {
  "kernelspec": {
   "display_name": "Python 3 (ipykernel)",
   "language": "python",
   "name": "python3"
  },
  "language_info": {
   "codemirror_mode": {
    "name": "ipython",
    "version": 3
   },
   "file_extension": ".py",
   "mimetype": "text/x-python",
   "name": "python",
   "nbconvert_exporter": "python",
   "pygments_lexer": "ipython3",
   "version": "3.9.13"
  }
 },
 "nbformat": 4,
 "nbformat_minor": 5
}
