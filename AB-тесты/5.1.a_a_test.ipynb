{
 "cells": [
  {
   "cell_type": "markdown",
   "id": "58a7dbce",
   "metadata": {},
   "source": [
    "# Проверка системы сплитования\n",
    "\n",
    "Что нужно сделать: у нас есть данные А/А-теста с '2023-09-21' по '2023-09-27'. Вам нужно сделать симуляцию, как будто мы провели 10000 А/А-тестов. На каждой итерации вам нужно сформировать подвыборки без повторения в 500 юзеров из 2 и 3 экспериментальной группы. Провести сравнение этих подвыборок t-testом\n",
    "\n",
    "**1. Провести симуляцию А/А-теста и проверить результаты t-тестом**"
   ]
  },
  {
   "cell_type": "code",
   "execution_count": 3,
   "id": "c0cd0211-d533-4f17-81f9-782e33da9800",
   "metadata": {},
   "outputs": [],
   "source": [
    "import pandahouse as ph\n",
    "import pandas as pd\n",
    "import seaborn as sns\n",
    "import matplotlib.pyplot as plt\n",
    "import numpy as np\n",
    "\n",
    "from scipy import stats\n",
    "from scipy.stats import kstest\n",
    "\n",
    "%matplotlib inline"
   ]
  },
  {
   "cell_type": "code",
   "execution_count": 4,
   "id": "559d7d30",
   "metadata": {},
   "outputs": [],
   "source": [
    "connection = {'host': 'https://clickhouse.lab.karpov.courses',\n",
    "              'database':'simulator_20231020',\n",
    "              'user':'student',\n",
    "              'password':'dpo_python_2020'\n",
    "             }"
   ]
  },
  {
   "cell_type": "code",
   "execution_count": 5,
   "id": "17063585",
   "metadata": {},
   "outputs": [
    {
     "data": {
      "text/html": [
       "<div>\n",
       "<style scoped>\n",
       "    .dataframe tbody tr th:only-of-type {\n",
       "        vertical-align: middle;\n",
       "    }\n",
       "\n",
       "    .dataframe tbody tr th {\n",
       "        vertical-align: top;\n",
       "    }\n",
       "\n",
       "    .dataframe thead th {\n",
       "        text-align: right;\n",
       "    }\n",
       "</style>\n",
       "<table border=\"1\" class=\"dataframe\">\n",
       "  <thead>\n",
       "    <tr style=\"text-align: right;\">\n",
       "      <th></th>\n",
       "      <th>user_id</th>\n",
       "      <th>likes</th>\n",
       "      <th>views</th>\n",
       "      <th>ctr</th>\n",
       "    </tr>\n",
       "    <tr>\n",
       "      <th>exp_group</th>\n",
       "      <th></th>\n",
       "      <th></th>\n",
       "      <th></th>\n",
       "      <th></th>\n",
       "    </tr>\n",
       "  </thead>\n",
       "  <tbody>\n",
       "    <tr>\n",
       "      <th>2</th>\n",
       "      <td>8362</td>\n",
       "      <td>8362</td>\n",
       "      <td>8362</td>\n",
       "      <td>8362</td>\n",
       "    </tr>\n",
       "    <tr>\n",
       "      <th>3</th>\n",
       "      <td>8425</td>\n",
       "      <td>8425</td>\n",
       "      <td>8425</td>\n",
       "      <td>8425</td>\n",
       "    </tr>\n",
       "  </tbody>\n",
       "</table>\n",
       "</div>"
      ],
      "text/plain": [
       "           user_id  likes  views   ctr\n",
       "exp_group                             \n",
       "2             8362   8362   8362  8362\n",
       "3             8425   8425   8425  8425"
      ]
     },
     "execution_count": 5,
     "metadata": {},
     "output_type": "execute_result"
    }
   ],
   "source": [
    "quest = \"\"\"SELECT exp_group, \n",
    "                user_id,\n",
    "                SUM(action = 'like') as likes,\n",
    "                SUM(action = 'view') as views,\n",
    "                likes/views as ctr\n",
    "            FROM \n",
    "                simulator_20231020.feed_actions\n",
    "            WHERE \n",
    "                toDate(time) BETWEEN '2023-09-21' AND '2023-09-27'\n",
    "                AND exp_group in (2, 3)\n",
    "            GROUP BY \n",
    "                exp_group, \n",
    "                user_id\n",
    "            \"\"\"\n",
    "\n",
    "df = ph.read_clickhouse(quest, connection=connection)\n",
    "df.groupby('exp_group').count()"
   ]
  },
  {
   "cell_type": "code",
   "execution_count": 4,
   "id": "4653f552",
   "metadata": {
    "scrolled": true
   },
   "outputs": [
    {
     "data": {
      "image/png": "[encoded data removed]",
      "text/plain": [
       "<Figure size 720x360 with 1 Axes>"
      ]
     },
     "metadata": {},
     "output_type": "display_data"
    }
   ],
   "source": [
    "# Посмотрим на распределение двух экспериментальных групп\n",
    "\n",
    "sns.set(rc={'figure.figsize':(10, 5)})\n",
    "\n",
    "groups = sns.histplot(data = df, \n",
    "                      x='ctr', \n",
    "                      hue='exp_group', \n",
    "                      palette = ['r', 'b'],\n",
    "                      alpha=0.5,\n",
    "                      kde=False)"
   ]
  },
  {
   "cell_type": "code",
   "execution_count": 6,
   "id": "6438e75c",
   "metadata": {},
   "outputs": [],
   "source": [
    "# Функция для симуляции А/А-тестов\n",
    "\n",
    "def aa_simulation(group_1, group_2):\n",
    "    simulation_group_1 = 0\n",
    "    simulation_group_2 = 0\n",
    "    p_values = []\n",
    "    for _ in range(10000):\n",
    "        simulation_group_1 = group_1.sample(500, replace=False)\n",
    "        simulation_group_2 = group_2.sample(500, replace=False)\n",
    "        p_values.append(stats.ttest_ind(simulation_group_1, simulation_group_2, equal_var=False)[1])\n",
    "    print(f'Симуляция завершена. Рассчитано {len(p_values)} значений p-values')\n",
    "    return p_values"
   ]
  },
  {
   "cell_type": "code",
   "execution_count": 7,
   "id": "8f721855",
   "metadata": {},
   "outputs": [],
   "source": [
    "group_2 = df.query('exp_group == 2').ctr\n",
    "group_3 = df.query('exp_group == 3').ctr"
   ]
  },
  {
   "cell_type": "code",
   "execution_count": 12,
   "id": "abe56c12",
   "metadata": {},
   "outputs": [
    {
     "name": "stdout",
     "output_type": "stream",
     "text": [
      "Симуляция завершена. Рассчитано 10000 значений p-values\n"
     ]
    }
   ],
   "source": [
    "# Проведем симуляцию 10000 А/А-тестов (для нормальных распределений)\n",
    "\n",
    "simulation_p_values = aa_simulation(group_2, \n",
    "                                    group_3)"
   ]
  },
  {
   "cell_type": "markdown",
   "id": "da6e54c3",
   "metadata": {},
   "source": [
    "**2. Построить гистограмму распределения получившихся 10000 p-values.**"
   ]
  },
  {
   "cell_type": "code",
   "execution_count": 13,
   "id": "3d4feac2",
   "metadata": {},
   "outputs": [
    {
     "data": {
      "image/png": "[encoded data removed]",
      "text/plain": [
       "<Figure size 432x288 with 1 Axes>"
      ]
     },
     "metadata": {
      "needs_background": "light"
     },
     "output_type": "display_data"
    }
   ],
   "source": [
    "groups_test = sns.histplot(data=simulation_p_values,\n",
    "                           alpha=0.5,\n",
    "                           kde=False)"
   ]
  },
  {
   "cell_type": "code",
   "execution_count": 10,
   "id": "079fd315",
   "metadata": {},
   "outputs": [],
   "source": [
    "# Проверяем является ли распределение p-values равномерным\n",
    "\n",
    "def check_uniform_distribution(values):\n",
    "    result = kstest(values, 'uniform')\n",
    "    if result[1] < 0.05:\n",
    "        print(\"Гипотеза о равномерности распределения отвергается\")\n",
    "    else:\n",
    "        print(\"Гипотеза о равномерности распределения не отвергается\")"
   ]
  },
  {
   "cell_type": "code",
   "execution_count": 14,
   "id": "9787ca34",
   "metadata": {},
   "outputs": [
    {
     "name": "stdout",
     "output_type": "stream",
     "text": [
      "Гипотеза о равномерности распределения не отвергается\n"
     ]
    }
   ],
   "source": [
    "check_uniform_distribution(simulation_p_values)"
   ]
  },
  {
   "cell_type": "markdown",
   "id": "1f52acef",
   "metadata": {},
   "source": [
    "**3. Посчитать, какой процент p-values оказался меньше либо равен 0.05**"
   ]
  },
  {
   "cell_type": "code",
   "execution_count": 15,
   "id": "55540fa6",
   "metadata": {},
   "outputs": [],
   "source": [
    "def determine_percentage(list_p_values):\n",
    "    check_p_values = []\n",
    "    for i in list_p_values:\n",
    "        if i <= 0.05:\n",
    "            check_p_values.append(1)\n",
    "        else:\n",
    "            check_p_values.append(0)\n",
    "    \n",
    "    df_for_p_values = pd.DataFrame({'binary_p_value': check_p_values}).reset_index()\n",
    "    persentage = df_for_p_values.groupby('binary_p_value').index.count().iloc[1] * 0.01\n",
    "    return persentage"
   ]
  },
  {
   "cell_type": "code",
   "execution_count": 16,
   "id": "000938f0",
   "metadata": {
    "scrolled": true
   },
   "outputs": [
    {
     "data": {
      "text/plain": [
       "4.57"
      ]
     },
     "execution_count": 16,
     "metadata": {},
     "output_type": "execute_result"
    }
   ],
   "source": [
    "determine_percentage(simulation_p_values)"
   ]
  },
  {
   "cell_type": "markdown",
   "id": "7aa2815c",
   "metadata": {},
   "source": [
    "**4. Написать вывод по проведенному А/А-тесту, корректно ли работает наша система сплитования.**"
   ]
  },
  {
   "cell_type": "markdown",
   "id": "7ed9cb3a",
   "metadata": {},
   "source": [
    "Цель анализа: проверить корректность работы системы сплитования. Работу системы будем считать корректной тогда, когда при проведении А/А-тестов у нас не возникает статистически значимых различий по ключевой метрике между группами.\n",
    "\n",
    "Проверка производилась на основе рассчитаного показателя CTR за период с '2023-09-21' по '2023-09-27' на 2 и 3 экспрериментальных группах. Была произведена симуляция 10000 А/А-тестов, в ходе которой из каждой экспериментальной группы многократно извлекалось по 500 пользователей (без повторения) и производилось их последующее сравнения с помощью t-критерия Стьюдента.\n",
    "\n",
    "Построив гистограмму распределения получившихся p-values мы видим, что оно похоже на равномерное. Дополнительно убеждаемся в этом при помощи теста Колмогорова-Смирнова, который подтверждает наше предположение о равномерности распределения. \n",
    "\n",
    "Если наши p-values распределены равномерно, то это значит, что мы имеем одинаковую вероятность получить любое конкретное значение p-value для всех возможных значений. Если система сплитования работает случайным образом, то различные сплиты должны иметь одинаковую вероятность попадания в каждую из групп. Таким образом, равномерное распределение p-values подтверждает случайность и равномерность сплитования.\n",
    "\n",
    "Процент получившихся p-values оказался равен 4,57%, т.е. примерно 5% ложноположительных результатов и равномерность распределения говорят нам о том, что система сплитовая работает корректно."
   ]
  }
 ],
 "metadata": {
  "kernelspec": {
   "display_name": "Python 3 (ipykernel)",
   "language": "python",
   "name": "python3"
  },
  "language_info": {
   "codemirror_mode": {
    "name": "ipython",
    "version": 3
   },
   "file_extension": ".py",
   "mimetype": "text/x-python",
   "name": "python",
   "nbconvert_exporter": "python",
   "pygments_lexer": "ipython3",
   "version": "3.8.10"
  }
 },
 "nbformat": 4,
 "nbformat_minor": 5
}
