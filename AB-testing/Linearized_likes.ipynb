{
 "cells": [
  {
   "cell_type": "markdown",
   "id": "adaf672f",
   "metadata": {},
   "source": [
    "# Метод линеаризации\n",
    "\n",
    "Относительно недавно (в 2018-м году) исследователи из Яндекса разработали классный метод анализа тестов над метриками-отношениями (прямо как у нас) вида  𝑥/𝑦  (У нас likes/clicks).\n",
    "\n",
    "Идея метода заключается в следующем:\n",
    "\n",
    "Вместо того, чтобы заталкивать в тест «поюзерные» CTR, можно сконструировать другую метрику и анализировать ее, но при этом гарантируется (в отличие от сглаженного CTR), что если тест на этой другой метрике «прокрасится» и увидит изменения, значит изменения есть и в метрике исходной (то есть в лайках на пользователя и в пользовательских CTR\n",
    "\n",
    "Задача:\n",
    "\n",
    "**1. Проанализируйте тест между группами 0 и 3 по метрике линеаризованных лайков. Видно ли отличие? Стало ли 𝑝−𝑣𝑎𝑙𝑢𝑒 меньше по сравнению с обычным CTR?**\n",
    "\n",
    "Данные берём в том же диапазоне, в котором проводился АБ-тест."
   ]
  },
  {
   "cell_type": "markdown",
   "id": "5a80f37d",
   "metadata": {},
   "source": [
    "У нас есть 2 группы:\n",
    "1. Группа 1 включает группы: 0(контрольная) и 3(тестовая)\n",
    "2. Группа 2 включает группы: 1(контрольная) и 2(тестовая)"
   ]
  },
  {
   "cell_type": "code",
   "execution_count": 1,
   "id": "cb9f886a",
   "metadata": {},
   "outputs": [],
   "source": [
    "import pandahouse as ph\n",
    "import pandas as pd\n",
    "import seaborn as sns\n",
    "import matplotlib.pyplot as plt\n",
    "import numpy as np\n",
    "\n",
    "from scipy import stats\n",
    "\n",
    "%matplotlib inline"
   ]
  },
  {
   "cell_type": "code",
   "execution_count": 2,
   "id": "abb7499d",
   "metadata": {},
   "outputs": [],
   "source": [
    "connection = {'host': 'https://clickhouse.lab.karpov.courses',\n",
    "              'database':'simulator_20231020',\n",
    "              'user':'student',\n",
    "              'password':'_'\n",
    "             }"
   ]
  },
  {
   "cell_type": "code",
   "execution_count": 3,
   "id": "837a3ab5",
   "metadata": {},
   "outputs": [
    {
     "data": {
      "text/html": [
       "<div>\n",
       "<style scoped>\n",
       "    .dataframe tbody tr th:only-of-type {\n",
       "        vertical-align: middle;\n",
       "    }\n",
       "\n",
       "    .dataframe tbody tr th {\n",
       "        vertical-align: top;\n",
       "    }\n",
       "\n",
       "    .dataframe thead th {\n",
       "        text-align: right;\n",
       "    }\n",
       "</style>\n",
       "<table border=\"1\" class=\"dataframe\">\n",
       "  <thead>\n",
       "    <tr style=\"text-align: right;\">\n",
       "      <th></th>\n",
       "      <th>exp_group</th>\n",
       "      <th>user_id</th>\n",
       "      <th>likes</th>\n",
       "      <th>views</th>\n",
       "      <th>ctr</th>\n",
       "      <th>ctr_control</th>\n",
       "      <th>linearixed_likes</th>\n",
       "    </tr>\n",
       "  </thead>\n",
       "  <tbody>\n",
       "    <tr>\n",
       "      <th>0</th>\n",
       "      <td>3</td>\n",
       "      <td>115383</td>\n",
       "      <td>12</td>\n",
       "      <td>44</td>\n",
       "      <td>0.27</td>\n",
       "      <td>0.21</td>\n",
       "      <td>2.76</td>\n",
       "    </tr>\n",
       "    <tr>\n",
       "      <th>1</th>\n",
       "      <td>3</td>\n",
       "      <td>123580</td>\n",
       "      <td>2</td>\n",
       "      <td>11</td>\n",
       "      <td>0.18</td>\n",
       "      <td>0.21</td>\n",
       "      <td>-0.31</td>\n",
       "    </tr>\n",
       "    <tr>\n",
       "      <th>2</th>\n",
       "      <td>0</td>\n",
       "      <td>4944</td>\n",
       "      <td>8</td>\n",
       "      <td>41</td>\n",
       "      <td>0.20</td>\n",
       "      <td>0.21</td>\n",
       "      <td>-0.61</td>\n",
       "    </tr>\n",
       "    <tr>\n",
       "      <th>3</th>\n",
       "      <td>0</td>\n",
       "      <td>4504</td>\n",
       "      <td>5</td>\n",
       "      <td>15</td>\n",
       "      <td>0.33</td>\n",
       "      <td>0.21</td>\n",
       "      <td>1.85</td>\n",
       "    </tr>\n",
       "    <tr>\n",
       "      <th>4</th>\n",
       "      <td>0</td>\n",
       "      <td>121508</td>\n",
       "      <td>6</td>\n",
       "      <td>25</td>\n",
       "      <td>0.24</td>\n",
       "      <td>0.21</td>\n",
       "      <td>0.75</td>\n",
       "    </tr>\n",
       "  </tbody>\n",
       "</table>\n",
       "</div>"
      ],
      "text/plain": [
       "   exp_group  user_id  likes  views   ctr  ctr_control  linearixed_likes\n",
       "0          3   115383     12     44  0.27         0.21              2.76\n",
       "1          3   123580      2     11  0.18         0.21             -0.31\n",
       "2          0     4944      8     41  0.20         0.21             -0.61\n",
       "3          0     4504      5     15  0.33         0.21              1.85\n",
       "4          0   121508      6     25  0.24         0.21              0.75"
      ]
     },
     "execution_count": 3,
     "metadata": {},
     "output_type": "execute_result"
    }
   ],
   "source": [
    "# Считаем общий CTR в контрольной группе 0 и линеаризованные лайки в группах 0 и 3\n",
    "\n",
    "quest_linearixed = \"\"\"\n",
    "                        SELECT \n",
    "                            exp_group, \n",
    "                            user_id, \n",
    "                            likes, \n",
    "                            views, \n",
    "                            ctr, \n",
    "                            ctr_control, \n",
    "                            round(likes - (ctr_control * views), 2) as linearixed_likes\n",
    "                        FROM\n",
    "                          (\n",
    "                          SELECT \n",
    "                              exp_group, \n",
    "                              user_id,\n",
    "                              SUM(action = 'like') as likes,\n",
    "                              SUM(action = 'view') as views,\n",
    "                              round(likes/views, 2) as ctr\n",
    "                          FROM \n",
    "                              simulator_20231020.feed_actions\n",
    "                          WHERE \n",
    "                              toDate(time) BETWEEN '2023-09-28' AND '2023-10-04'\n",
    "                              AND exp_group in (0, 3)\n",
    "                          GROUP BY \n",
    "                              exp_group, \n",
    "                              user_id\n",
    "                          ) as t1\n",
    "                        CROSS JOIN\n",
    "                          (\n",
    "                          SELECT \n",
    "                              round(SUM(action = 'like')/SUM(action = 'view'), 2) as ctr_control\n",
    "                          FROM \n",
    "                              simulator_20231020.feed_actions\n",
    "                          WHERE \n",
    "                              toDate(time) BETWEEN '2023-09-28' AND '2023-10-04'\n",
    "                              AND exp_group = 0\n",
    "                          GROUP BY \n",
    "                              exp_group\n",
    "                          ) as common_ctr \n",
    "                        \"\"\"\n",
    "\n",
    "df_linearixed_gr_1 = ph.read_clickhouse(quest_linearixed, connection=connection)\n",
    "df_linearixed_gr_1.head()"
   ]
  },
  {
   "cell_type": "code",
   "execution_count": 7,
   "id": "f810da20",
   "metadata": {},
   "outputs": [
    {
     "data": {
      "text/plain": [
       "<AxesSubplot:xlabel='ctr', ylabel='Count'>"
      ]
     },
     "execution_count": 7,
     "metadata": {},
     "output_type": "execute_result"
    },
    {
     "data": {
      "image/png": "[encoded data removed]",
      "text/plain": [
       "<Figure size 800x500 with 1 Axes>"
      ]
     },
     "metadata": {},
     "output_type": "display_data"
    }
   ],
   "source": [
    "# Построим гистограммы распределения CTR по группам 0 и 3\n",
    "\n",
    "sns.set(rc={'figure.figsize':(8, 5)})\n",
    "\n",
    "sns.histplot(data=df_linearixed_gr_1, \n",
    "             x='ctr', \n",
    "             hue='exp_group', \n",
    "             palette=['r', 'b'], \n",
    "             alpha=0.5, \n",
    "             kde=False)"
   ]
  },
  {
   "cell_type": "code",
   "execution_count": 14,
   "id": "a137d960",
   "metadata": {},
   "outputs": [
    {
     "data": {
      "text/plain": [
       "<AxesSubplot:xlabel='linearixed_likes', ylabel='Count'>"
      ]
     },
     "execution_count": 14,
     "metadata": {},
     "output_type": "execute_result"
    },
    {
     "data": {
      "image/png": "[encoded data removed]",
      "text/plain": [
       "<Figure size 800x500 with 1 Axes>"
      ]
     },
     "metadata": {},
     "output_type": "display_data"
    }
   ],
   "source": [
    "# Построим гистограммы распределения CTR линеаризированных лайков по группам 0 и 3\n",
    "\n",
    "sns.histplot(data=df_linearixed_gr_1, \n",
    "             x='linearixed_likes', \n",
    "             hue='exp_group', \n",
    "             palette=['r', 'b'], \n",
    "             alpha=0.5, \n",
    "             kde=False)"
   ]
  },
  {
   "cell_type": "markdown",
   "id": "99c40088",
   "metadata": {},
   "source": [
    "Проанализируем тест между группами 0 и 3 по метрике линеаризованных лайков"
   ]
  },
  {
   "cell_type": "code",
   "execution_count": 10,
   "id": "1ece6cb7",
   "metadata": {},
   "outputs": [
    {
     "data": {
      "text/plain": [
       "Ttest_indResult(statistic=-16.18591163811859, pvalue=1.499460995637754e-58)"
      ]
     },
     "execution_count": 10,
     "metadata": {},
     "output_type": "execute_result"
    }
   ],
   "source": [
    "# t-test group 0 and 3, linearixed_CTR\n",
    "\n",
    "ttest_gr_1_line = stats.ttest_ind(df_linearixed_gr_1[df_linearixed_gr_1.exp_group == 0].linearixed_likes, \n",
    "                                  df_linearixed_gr_1[df_linearixed_gr_1.exp_group == 3].linearixed_likes,\n",
    "                                  equal_var=False)\n",
    "ttest_gr_1_line"
   ]
  },
  {
   "cell_type": "code",
   "execution_count": 11,
   "id": "dff8e3fc",
   "metadata": {
    "scrolled": true
   },
   "outputs": [
    {
     "data": {
      "text/plain": [
       "Ttest_indResult(statistic=-13.971394576179117, pvalue=3.76642269628566e-44)"
      ]
     },
     "execution_count": 11,
     "metadata": {},
     "output_type": "execute_result"
    }
   ],
   "source": [
    "# t-test group 0 and 3, CTR\n",
    "\n",
    "ttest_gr_1_ctr = stats.ttest_ind(df_linearixed_gr_1[df_linearixed_gr_1.exp_group == 0].ctr, \n",
    "                                 df_linearixed_gr_1[df_linearixed_gr_1.exp_group == 3].ctr, \n",
    "                                 equal_var=False)\n",
    "ttest_gr_1_ctr"
   ]
  },
  {
   "cell_type": "code",
   "execution_count": 12,
   "id": "5fe92622",
   "metadata": {},
   "outputs": [
    {
     "data": {
      "text/plain": [
       "True"
      ]
     },
     "execution_count": 12,
     "metadata": {},
     "output_type": "execute_result"
    }
   ],
   "source": [
    "ttest_gr_1_line.pvalue < ttest_gr_1_ctr.pvalue"
   ]
  },
  {
   "cell_type": "markdown",
   "id": "dc6b7e3c",
   "metadata": {},
   "source": [
    "P-value CTR линеаризированных лайков стало меньше, чем у обычного CTR. И само распределение уже стало непрерывным и похоже на нормальное.\n",
    "\n",
    "Получается, что тест на новой метрике \"прокрасился\", соответственно, мы можем заключить, что изменения есть и в исходной метрике\n",
    "(т.е. и в лайках, и в CTR)"
   ]
  },
  {
   "cell_type": "code",
   "execution_count": 17,
   "id": "644a79c3",
   "metadata": {},
   "outputs": [
    {
     "data": {
      "text/html": [
       "<div>\n",
       "<style scoped>\n",
       "    .dataframe tbody tr th:only-of-type {\n",
       "        vertical-align: middle;\n",
       "    }\n",
       "\n",
       "    .dataframe tbody tr th {\n",
       "        vertical-align: top;\n",
       "    }\n",
       "\n",
       "    .dataframe thead th {\n",
       "        text-align: right;\n",
       "    }\n",
       "</style>\n",
       "<table border=\"1\" class=\"dataframe\">\n",
       "  <thead>\n",
       "    <tr style=\"text-align: right;\">\n",
       "      <th></th>\n",
       "      <th>exp_group</th>\n",
       "      <th>user_id</th>\n",
       "      <th>likes</th>\n",
       "      <th>views</th>\n",
       "      <th>ctr</th>\n",
       "      <th>linearixed_likes</th>\n",
       "    </tr>\n",
       "  </thead>\n",
       "  <tbody>\n",
       "    <tr>\n",
       "      <th>0</th>\n",
       "      <td>0</td>\n",
       "      <td>9920</td>\n",
       "      <td>140714</td>\n",
       "      <td>670584</td>\n",
       "      <td>0.216781</td>\n",
       "      <td>-0.010952</td>\n",
       "    </tr>\n",
       "    <tr>\n",
       "      <th>1</th>\n",
       "      <td>3</td>\n",
       "      <td>10002</td>\n",
       "      <td>151327</td>\n",
       "      <td>668975</td>\n",
       "      <td>0.233165</td>\n",
       "      <td>1.084008</td>\n",
       "    </tr>\n",
       "  </tbody>\n",
       "</table>\n",
       "</div>"
      ],
      "text/plain": [
       "   exp_group  user_id   likes   views       ctr  linearixed_likes\n",
       "0          0     9920  140714  670584  0.216781         -0.010952\n",
       "1          3    10002  151327  668975  0.233165          1.084008"
      ]
     },
     "execution_count": 17,
     "metadata": {},
     "output_type": "execute_result"
    }
   ],
   "source": [
    "df_linearixed_gr_1.groupby('exp_group', as_index=False).agg({'user_id':'count', \n",
    "                                                             'likes':'sum', \n",
    "                                                             'views':'sum', \n",
    "                                                             'ctr':'mean', \n",
    "                                                             'linearixed_likes':'mean'})"
   ]
  },
  {
   "cell_type": "markdown",
   "id": "decf3c90",
   "metadata": {},
   "source": [
    "По абсолютным значениям мы также видим более выраженную динамику: если обычный CTR отличается незначительно, то по линеаризированному мы видим значительную разницу между группами"
   ]
  },
  {
   "cell_type": "markdown",
   "id": "cd194c61",
   "metadata": {},
   "source": [
    "**2. Проанализируйте тест между группами 1 и 2 по метрике линеаризованных лайков. Видно ли отличие? Стало ли 𝑝−𝑣𝑎𝑙𝑢𝑒 меньше по сравнению с обычным CTR?**"
   ]
  },
  {
   "cell_type": "code",
   "execution_count": 18,
   "id": "f5856db0",
   "metadata": {},
   "outputs": [
    {
     "data": {
      "text/html": [
       "<div>\n",
       "<style scoped>\n",
       "    .dataframe tbody tr th:only-of-type {\n",
       "        vertical-align: middle;\n",
       "    }\n",
       "\n",
       "    .dataframe tbody tr th {\n",
       "        vertical-align: top;\n",
       "    }\n",
       "\n",
       "    .dataframe thead th {\n",
       "        text-align: right;\n",
       "    }\n",
       "</style>\n",
       "<table border=\"1\" class=\"dataframe\">\n",
       "  <thead>\n",
       "    <tr style=\"text-align: right;\">\n",
       "      <th></th>\n",
       "      <th>exp_group</th>\n",
       "      <th>user_id</th>\n",
       "      <th>likes</th>\n",
       "      <th>views</th>\n",
       "      <th>ctr</th>\n",
       "      <th>ctr_control</th>\n",
       "      <th>linearixed_likes</th>\n",
       "    </tr>\n",
       "  </thead>\n",
       "  <tbody>\n",
       "    <tr>\n",
       "      <th>0</th>\n",
       "      <td>1</td>\n",
       "      <td>109963</td>\n",
       "      <td>3</td>\n",
       "      <td>15</td>\n",
       "      <td>0.20</td>\n",
       "      <td>0.21</td>\n",
       "      <td>-0.15</td>\n",
       "    </tr>\n",
       "    <tr>\n",
       "      <th>1</th>\n",
       "      <td>1</td>\n",
       "      <td>26117</td>\n",
       "      <td>32</td>\n",
       "      <td>141</td>\n",
       "      <td>0.23</td>\n",
       "      <td>0.21</td>\n",
       "      <td>2.39</td>\n",
       "    </tr>\n",
       "    <tr>\n",
       "      <th>2</th>\n",
       "      <td>1</td>\n",
       "      <td>138232</td>\n",
       "      <td>18</td>\n",
       "      <td>73</td>\n",
       "      <td>0.25</td>\n",
       "      <td>0.21</td>\n",
       "      <td>2.67</td>\n",
       "    </tr>\n",
       "    <tr>\n",
       "      <th>3</th>\n",
       "      <td>1</td>\n",
       "      <td>18392</td>\n",
       "      <td>7</td>\n",
       "      <td>32</td>\n",
       "      <td>0.22</td>\n",
       "      <td>0.21</td>\n",
       "      <td>0.28</td>\n",
       "    </tr>\n",
       "    <tr>\n",
       "      <th>4</th>\n",
       "      <td>1</td>\n",
       "      <td>26295</td>\n",
       "      <td>39</td>\n",
       "      <td>141</td>\n",
       "      <td>0.28</td>\n",
       "      <td>0.21</td>\n",
       "      <td>9.39</td>\n",
       "    </tr>\n",
       "  </tbody>\n",
       "</table>\n",
       "</div>"
      ],
      "text/plain": [
       "   exp_group  user_id  likes  views   ctr  ctr_control  linearixed_likes\n",
       "0          1   109963      3     15  0.20         0.21             -0.15\n",
       "1          1    26117     32    141  0.23         0.21              2.39\n",
       "2          1   138232     18     73  0.25         0.21              2.67\n",
       "3          1    18392      7     32  0.22         0.21              0.28\n",
       "4          1    26295     39    141  0.28         0.21              9.39"
      ]
     },
     "execution_count": 18,
     "metadata": {},
     "output_type": "execute_result"
    }
   ],
   "source": [
    "# Считаем общий CTR в контрольной группе 1 и линеаризованные лайки в группах 1 и 2\n",
    "\n",
    "quest_linearixed_2 = \"\"\"\n",
    "                        SELECT \n",
    "                            exp_group, \n",
    "                            user_id, \n",
    "                            likes, \n",
    "                            views, \n",
    "                            ctr, \n",
    "                            ctr_control, \n",
    "                            round(likes - (ctr_control * views), 2) as linearixed_likes\n",
    "                        FROM\n",
    "                          (\n",
    "                          SELECT \n",
    "                              exp_group, \n",
    "                              user_id,\n",
    "                              SUM(action = 'like') as likes,\n",
    "                              SUM(action = 'view') as views,\n",
    "                              round(likes/views, 2) as ctr\n",
    "                          FROM \n",
    "                              simulator_20231020.feed_actions\n",
    "                          WHERE \n",
    "                              toDate(time) BETWEEN '2023-09-28' AND '2023-10-04'\n",
    "                              AND exp_group in (1, 2)\n",
    "                          GROUP BY \n",
    "                              exp_group, \n",
    "                              user_id\n",
    "                          ) as t1\n",
    "                        CROSS JOIN\n",
    "                          (\n",
    "                          SELECT \n",
    "                              round(SUM(action = 'like')/SUM(action = 'view'), 2) as ctr_control\n",
    "                          FROM \n",
    "                              simulator_20231020.feed_actions\n",
    "                          WHERE \n",
    "                              toDate(time) BETWEEN '2023-09-28' AND '2023-10-04'\n",
    "                              AND exp_group = 1\n",
    "                          GROUP BY \n",
    "                              exp_group\n",
    "                          ) as common_ctr\n",
    "                        \"\"\"\n",
    "\n",
    "df_linearixed_gr_2 = ph.read_clickhouse(quest_linearixed_2, connection=connection)\n",
    "df_linearixed_gr_2.head()"
   ]
  },
  {
   "cell_type": "code",
   "execution_count": 19,
   "id": "3eb2e716",
   "metadata": {},
   "outputs": [
    {
     "data": {
      "text/plain": [
       "<AxesSubplot:xlabel='linearixed_likes', ylabel='Count'>"
      ]
     },
     "execution_count": 19,
     "metadata": {},
     "output_type": "execute_result"
    },
    {
     "data": {
      "image/png": "[encoded data removed]",
      "text/plain": [
       "<Figure size 800x500 with 1 Axes>"
      ]
     },
     "metadata": {},
     "output_type": "display_data"
    }
   ],
   "source": [
    "# Построим гистограммы распределения CTR линеаризированных лайков по группам 1 и 2\n",
    "\n",
    "sns.histplot(data=df_linearixed_gr_2, \n",
    "             x='linearixed_likes', \n",
    "             hue='exp_group', \n",
    "             palette=['r', 'b'], \n",
    "             alpha=0.5, \n",
    "             kde=False)"
   ]
  },
  {
   "cell_type": "code",
   "execution_count": 20,
   "id": "33031047",
   "metadata": {},
   "outputs": [
    {
     "data": {
      "text/plain": [
       "<AxesSubplot:xlabel='ctr', ylabel='Count'>"
      ]
     },
     "execution_count": 20,
     "metadata": {},
     "output_type": "execute_result"
    },
    {
     "data": {
      "image/png": "[encoded data removed]",
      "text/plain": [
       "<Figure size 800x500 with 1 Axes>"
      ]
     },
     "metadata": {},
     "output_type": "display_data"
    }
   ],
   "source": [
    "# Построим гистограммы распределения CTR по группам 1 и 2\n",
    "\n",
    "sns.histplot(data=df_linearixed_gr_2, \n",
    "             x='ctr', \n",
    "             hue='exp_group', \n",
    "             palette=['r', 'b'], \n",
    "             alpha=0.5, \n",
    "             kde=False)"
   ]
  },
  {
   "cell_type": "code",
   "execution_count": 21,
   "id": "4fb06bc4",
   "metadata": {},
   "outputs": [
    {
     "data": {
      "text/plain": [
       "Ttest_indResult(statistic=5.9334200301653715, pvalue=3.034569921316535e-09)"
      ]
     },
     "execution_count": 21,
     "metadata": {},
     "output_type": "execute_result"
    }
   ],
   "source": [
    "# t-test group 1 and 2, linearixed CTR\n",
    "\n",
    "ttest_gr_2_line = stats.ttest_ind(df_linearixed_gr_2[df_linearixed_gr_2.exp_group == 1].linearixed_likes, \n",
    "                                  df_linearixed_gr_2[df_linearixed_gr_2.exp_group == 2].linearixed_likes,\n",
    "                                  equal_var=False)\n",
    "ttest_gr_2_line"
   ]
  },
  {
   "cell_type": "code",
   "execution_count": 22,
   "id": "4049a1dd",
   "metadata": {},
   "outputs": [
    {
     "data": {
      "text/plain": [
       "Ttest_indResult(statistic=0.39592337412325357, pvalue=0.6921668985029372)"
      ]
     },
     "execution_count": 22,
     "metadata": {},
     "output_type": "execute_result"
    }
   ],
   "source": [
    "# t-test group 1 and 2, CTR\n",
    "\n",
    "ttest_gr_2_ctr = stats.ttest_ind(df_linearixed_gr_2[df_linearixed_gr_2.exp_group == 1].ctr, \n",
    "                                 df_linearixed_gr_2[df_linearixed_gr_2.exp_group == 2].ctr,\n",
    "                                 equal_var=False)\n",
    "ttest_gr_2_ctr"
   ]
  },
  {
   "cell_type": "markdown",
   "id": "86135fdf",
   "metadata": {},
   "source": [
    "p-value CTR линеаризированных лайков во второй группе также стало меньше и показало, что разница между выборками 1 и 2 статистически значима."
   ]
  },
  {
   "cell_type": "code",
   "execution_count": 25,
   "id": "cc3e518c",
   "metadata": {},
   "outputs": [
    {
     "data": {
      "text/html": [
       "<div>\n",
       "<style scoped>\n",
       "    .dataframe tbody tr th:only-of-type {\n",
       "        vertical-align: middle;\n",
       "    }\n",
       "\n",
       "    .dataframe tbody tr th {\n",
       "        vertical-align: top;\n",
       "    }\n",
       "\n",
       "    .dataframe thead th {\n",
       "        text-align: right;\n",
       "    }\n",
       "</style>\n",
       "<table border=\"1\" class=\"dataframe\">\n",
       "  <thead>\n",
       "    <tr style=\"text-align: right;\">\n",
       "      <th></th>\n",
       "      <th>exp_group</th>\n",
       "      <th>user_id</th>\n",
       "      <th>likes</th>\n",
       "      <th>views</th>\n",
       "      <th>ctr</th>\n",
       "      <th>linearixed_likes</th>\n",
       "    </tr>\n",
       "  </thead>\n",
       "  <tbody>\n",
       "    <tr>\n",
       "      <th>0</th>\n",
       "      <td>1</td>\n",
       "      <td>10020</td>\n",
       "      <td>140339</td>\n",
       "      <td>669543</td>\n",
       "      <td>0.216735</td>\n",
       "      <td>-0.026450</td>\n",
       "    </tr>\n",
       "    <tr>\n",
       "      <th>1</th>\n",
       "      <td>2</td>\n",
       "      <td>9877</td>\n",
       "      <td>132056</td>\n",
       "      <td>659454</td>\n",
       "      <td>0.216078</td>\n",
       "      <td>-0.650941</td>\n",
       "    </tr>\n",
       "  </tbody>\n",
       "</table>\n",
       "</div>"
      ],
      "text/plain": [
       "   exp_group  user_id   likes   views       ctr  linearixed_likes\n",
       "0          1    10020  140339  669543  0.216735         -0.026450\n",
       "1          2     9877  132056  659454  0.216078         -0.650941"
      ]
     },
     "execution_count": 25,
     "metadata": {},
     "output_type": "execute_result"
    }
   ],
   "source": [
    "df_linearixed_gr_2.groupby('exp_group', as_index=False).agg({'user_id':'count', \n",
    "                                                             'likes':'sum', \n",
    "                                                             'views':'sum', \n",
    "                                                             'ctr':'mean', \n",
    "                                                             'linearixed_likes':'mean'})"
   ]
  },
  {
   "cell_type": "markdown",
   "id": "541a519f",
   "metadata": {},
   "source": [
    "В абсолютным значениям мы тоже видим весомые различия. Как мы знаем, в группе 2 применялся новый алгоритм рекомендации, и по снижению ключевых метрик мы еще раз убеждаемся, что новый алгоритм  не оправдывает первоначальных ожиданий, а именно - метрика CTR не увеличивается"
   ]
  }
 ],
 "metadata": {
  "kernelspec": {
   "display_name": "Python 3 (ipykernel)",
   "language": "python",
   "name": "python3"
  },
  "language_info": {
   "codemirror_mode": {
    "name": "ipython",
    "version": 3
   },
   "file_extension": ".py",
   "mimetype": "text/x-python",
   "name": "python",
   "nbconvert_exporter": "python",
   "pygments_lexer": "ipython3",
   "version": "3.9.13"
  }
 },
 "nbformat": 4,
 "nbformat_minor": 5
}
